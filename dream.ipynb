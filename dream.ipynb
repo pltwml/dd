{
 "cells": [
  {
   "cell_type": "code",
   "execution_count": null,
   "metadata": {},
   "outputs": [],
   "source": [
    "import torch\n",
    "from torchvision import transforms\n",
    "from PIL import Image\n",
    "from resnet import resnet50\n",
    "from deepdream import dream"
   ]
  },
  {
   "cell_type": "code",
   "execution_count": null,
   "metadata": {},
   "outputs": [],
   "source": [
    "img_transform = transforms.Compose([\n",
    "    transforms.ToTensor(),\n",
    "    transforms.Normalize([0.485, 0.456, 0.406], [0.229, 0.224, 0.225])\n",
    "])"
   ]
  },
  {
   "cell_type": "code",
   "execution_count": null,
   "metadata": {},
   "outputs": [],
   "source": [
    "input_img = Image.open('./sky.jpg')\n",
    "input_tensor = img_transform(input_img).unsqueeze(0)\n",
    "input_np = input_tensor.numpy()"
   ]
  },
  {
   "cell_type": "code",
   "execution_count": null,
   "metadata": {},
   "outputs": [],
   "source": [
    "input_img"
   ]
  },
  {
   "cell_type": "code",
   "execution_count": null,
   "metadata": {},
   "outputs": [],
   "source": [
    "# load model\n",
    "model = resnet50(pretrained=True)\n",
    "if torch.cuda.is_available():\n",
    "    model = model.cuda()\n",
    "for param in model.parameters():\n",
    "    param.requires_grad = False"
   ]
  },
  {
   "cell_type": "code",
   "execution_count": null,
   "metadata": {
    "scrolled": false
   },
   "outputs": [],
   "source": [
    "dream(model, input_np)"
   ]
  },
  {
   "cell_type": "markdown",
   "metadata": {
    "collapsed": true
   },
   "source": [
    "## Control the dream"
   ]
  },
  {
   "cell_type": "code",
   "execution_count": null,
   "metadata": {},
   "outputs": [],
   "source": [
    "import numpy as np\n",
    "import torch\n",
    "from torch.autograd import Variable\n",
    "from torchvision import transforms\n",
    "import os\n",
    "from resnet import resnet50\n",
    "from deepdream import dream\n",
    "from PIL import Image\n",
    "from util import showtensor"
   ]
  },
  {
   "cell_type": "code",
   "execution_count": null,
   "metadata": {},
   "outputs": [],
   "source": [
    "img_transform = transforms.Compose([\n",
    "        transforms.CenterCrop(224),\n",
    "        transforms.ToTensor(),\n",
    "        transforms.Normalize([0.485, 0.456, 0.406], [0.229, 0.224, 0.225])\n",
    "    ])\n",
    "inputs_control = Image.open('./guide_image/kitten.jpg')\n",
    "inputs_control = img_transform(inputs_control).unsqueeze(0)\n",
    "inputs_control_np = inputs_control.numpy()"
   ]
  },
  {
   "cell_type": "code",
   "execution_count": null,
   "metadata": {},
   "outputs": [],
   "source": [
    "showtensor(inputs_control_np)"
   ]
  },
  {
   "cell_type": "code",
   "execution_count": null,
   "metadata": {},
   "outputs": [],
   "source": [
    "model = resnet50(pretrained=True)\n",
    "if torch.cuda.is_available():\n",
    "    model = model.cuda()\n",
    "for param in model.parameters():\n",
    "    param.requires_grad = False\n",
    "\n",
    "if torch.cuda.is_available():\n",
    "    x_variable = Variable(inputs_control.cuda())\n",
    "else:\n",
    "    x_variable = Variable(inputs_control)\n",
    "\n",
    "control_features = model.forward(x_variable, end_layer=3)"
   ]
  },
  {
   "cell_type": "code",
   "execution_count": null,
   "metadata": {},
   "outputs": [],
   "source": [
    "def objective_guide(dst, guide_features):\n",
    "    x = dst.data[0].cpu().numpy().copy()\n",
    "    y = guide_features.data[0].cpu().numpy()\n",
    "    ch, w, h = x.shape\n",
    "    x = x.reshape(ch,-1)\n",
    "    y = y.reshape(ch,-1)\n",
    "    A = x.T.dot(y) # compute the matrix of dot-products with guide features\n",
    "    result = y[:,A.argmax(1)] # select ones that match best\n",
    "    result = torch.Tensor(np.array([result.reshape(ch, w, h)], dtype=np.float)).cuda()\n",
    "    return result"
   ]
  },
  {
   "cell_type": "code",
   "execution_count": null,
   "metadata": {
    "scrolled": false
   },
   "outputs": [],
   "source": [
    "dream(model, input_np, control=control_features, distance=objective_guide)"
   ]
  },
  {
   "cell_type": "code",
   "execution_count": null,
   "metadata": {},
   "outputs": [],
   "source": []
  }
 ],
 "metadata": {
  "kernelspec": {
   "display_name": "Python 3",
   "language": "python",
   "name": "python3"
  },
  "language_info": {
   "codemirror_mode": {
    "name": "ipython",
    "version": 3
   },
   "file_extension": ".py",
   "mimetype": "text/x-python",
   "name": "python",
   "nbconvert_exporter": "python",
   "pygments_lexer": "ipython3",
   "version": "3.8.5"
  }
 },
 "nbformat": 4,
 "nbformat_minor": 2
}
